{
 "cells": [
  {
   "cell_type": "markdown",
   "metadata": {},
   "source": [
    "# Introduction"
   ]
  },
  {
   "cell_type": "markdown",
   "metadata": {},
   "source": [
    "How to set-up Matlab Jupyter Notebooks\n",
    "\n",
    "1. [Make sure you have a pyhon version compatible with Matlab](#check-pytho-version)\n",
    "2. [Connect Matlab to Python](##Connect-Matlab-to-Python)\n",
    "3. [Connect Python to Matlab](#connect-python-to-matlab)\n",
    "4. [Use Jupyter Matlab](#use-jupyter-matlab)\n",
    "5. [References](#references)"
   ]
  },
  {
   "cell_type": "markdown",
   "metadata": {},
   "source": [
    "## 1. Check Python version"
   ]
  },
  {
   "cell_type": "markdown",
   "metadata": {},
   "source": [
    "Make sure you have a Version of Matlab compatible with python. You can find the list of versions of Python supported by each version of Matlab [here](https://www.mathworks.com/content/dam/mathworks/mathworks-dot-com/support/sysreq/files/python-support.pdf).\n",
    "\n",
    "In order to check your python version, type in the Terminal\n",
    "\n",
    "`python which`\n",
    "`python -V`\n",
    "\n",
    "In order to check your Matlab version, type in Matlab\n",
    "\n",
    "`matlabroot`\n",
    "\n",
    "If your Python version is not supported, I suggest making a virtual environment using `brew` `pyenv`.\n",
    "\n",
    "First, install `pyenv`\n",
    "\n",
    "`brew install pyenv`\n",
    "\n",
    "Have a look at all the available Python versions\n",
    "\n",
    "`pyenv versions`\n",
    "\n",
    "Install the one you prefer\n",
    "\n",
    "`pyenv install 3.7.8`\n",
    "\n",
    "Activate it either\n",
    " - globally: `pyenv global 3.7.8` \n",
    " - locally: `pyenv local 3.7.8` \n",
    " - in the shell: `pyenv shell 3.7.8` \n",
    " \n",
    "Check that it's working\n",
    "\n",
    "`python which`\n",
    "`python -V`"
   ]
  },
  {
   "cell_type": "markdown",
   "metadata": {},
   "source": [
    "## 2. Connect Matlab to Python"
   ]
  },
  {
   "cell_type": "markdown",
   "metadata": {},
   "source": [
    "Go in your root Matlab folder and move to the `/extern/engines/python` subfolder. In my case, I have Matlab2019a, so I type in the Terminal\n",
    "\n",
    "`cd /Applications/MATLAB2019a.app/extern/engines/python`\n",
    "\n",
    "Type\n",
    "\n",
    "`python setup.py install`\n"
   ]
  },
  {
   "cell_type": "markdown",
   "metadata": {},
   "source": [
    "## 3. Connect Python to Matlab\n",
    "\n",
    "Install the `matlab_kernel` parkage:\n",
    "\n",
    "`pip install matlab_kernel`\n",
    "`python -m matlab_kernel install`\n",
    "\n",
    "Check it worked\n",
    "\n",
    "`jupyter kernelspec list`\n",
    "\n",
    "You should get something like\n",
    "\n",
    "`\n",
    "Available kernels:\n",
    "  matlab     .../.pyenv/versions/3.7.8/share/jupyter/kernels/matlab\n",
    "  python3    .../.pyenv/versions/3.7.8/share/jupyter/kernels/python3\n",
    "`"
   ]
  },
  {
   "cell_type": "markdown",
   "metadata": {},
   "source": [
    "## 4. Use Jupyter Matlab"
   ]
  },
  {
   "cell_type": "markdown",
   "metadata": {},
   "source": [
    "Now open a new notebook\n",
    "\n",
    "`jupyter notebook`\n",
    "\n",
    "and see if it works"
   ]
  },
  {
   "cell_type": "code",
   "execution_count": 18,
   "metadata": {},
   "outputs": [],
   "source": [
    "% Generate data\n",
    "X = rand(30,1);\n",
    "e = rand(30,1)*0.5;\n",
    "y = 3+X + e;"
   ]
  },
  {
   "cell_type": "code",
   "execution_count": 21,
   "metadata": {},
   "outputs": [
    {
     "data": {
      "image/png": "[encoded data removed]",
      "text/plain": [
       "<IPython.core.display.Image object>"
      ]
     },
     "metadata": {},
     "output_type": "display_data"
    }
   ],
   "source": [
    "% Plot Data \n",
    "figure()\n",
    "scatter(X,y)\n",
    "title('My first plot')\n",
    "xlabel('X')\n",
    "ylabel('y')"
   ]
  },
  {
   "cell_type": "markdown",
   "metadata": {},
   "source": [
    "## 5. References\n",
    "\n",
    "My list of sources\n",
    " - Pyenv: https://realpython.com/intro-to-pyenv/\n",
    " - One guide: https://am111.readthedocs.io/en/latest/jmatlab_install.html\n",
    " - Another guide: https://blog.espci.fr/notesdegeeks/2017/12/29/matlab-notebooks-in-jupyther/\n",
    " - One more guide: https://github.com/Calysto/matlab_kernel"
   ]
  }
 ],
 "metadata": {
  "kernelspec": {
   "display_name": "Matlab",
   "language": "matlab",
   "name": "matlab"
  },
  "language_info": {
   "codemirror_mode": "octave",
   "file_extension": ".m",
   "help_links": [
    {
     "text": "MetaKernel Magics",
     "url": "https://metakernel.readthedocs.io/en/latest/source/README.html"
    }
   ],
   "mimetype": "text/x-octave",
   "name": "matlab",
   "version": "0.16.9"
  }
 },
 "nbformat": 4,
 "nbformat_minor": 4
}
